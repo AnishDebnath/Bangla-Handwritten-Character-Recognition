{
  "nbformat": 4,
  "nbformat_minor": 0,
  "metadata": {
    "colab": {
      "name": "CSE299 CNN Base_Model.ipynb",
      "provenance": []
    },
    "kernelspec": {
      "name": "python3",
      "display_name": "Python 3"
    },
    "accelerator": "GPU"
  },
  "cells": [
    {
      "cell_type": "code",
      "metadata": {
        "id": "kvAlHs2siFvW"
      },
      "source": [
        "from zipfile import ZipFile\r\n",
        "\r\n",
        "file_name = \"Dataset.zip\"\r\n",
        "\r\n",
        "with ZipFile(file_name, 'r') as zip:\r\n",
        "  zip.extractall()"
      ],
      "execution_count": 1,
      "outputs": []
    },
    {
      "cell_type": "code",
      "metadata": {
        "id": "WnyyXU43iQnW"
      },
      "source": [
        "from keras.models import Sequential\r\n",
        "from keras.layers import Conv2D, MaxPooling2D, Flatten, Dense, Dropout"
      ],
      "execution_count": 2,
      "outputs": []
    },
    {
      "cell_type": "code",
      "metadata": {
        "id": "RQfUFPzuiQqM"
      },
      "source": [
        "classifier = Sequential()\r\n",
        "\r\n",
        "classifier.add(Conv2D(filters = 256, kernel_size = (3, 3), activation = 'relu', input_shape = (128, 128, 3)))\r\n",
        "classifier.add(MaxPooling2D(pool_size = (2, 2)))\r\n",
        "classifier.add(Dropout(.2))\r\n",
        "\r\n",
        "classifier.add(Conv2D(filters = 128, kernel_size = (3, 3), activation = 'relu'))\r\n",
        "classifier.add(MaxPooling2D(pool_size = (2, 2)))\r\n",
        "classifier.add(Dropout(.2))\r\n",
        "\r\n",
        "classifier.add(Flatten())\r\n",
        "\r\n",
        "classifier.add(Dense(units = 128, activation = 'relu'))\r\n",
        "classifier.add(Dropout(.2))\r\n",
        "\r\n",
        "classifier.add(Dense(units = 50, activation = 'softmax'))\r\n",
        "\r\n",
        "classifier.compile(optimizer = 'adam', loss = 'categorical_crossentropy', metrics = ['accuracy'])"
      ],
      "execution_count": 3,
      "outputs": []
    },
    {
      "cell_type": "code",
      "metadata": {
        "id": "7uTXqo6FiQtF"
      },
      "source": [
        "from keras.preprocessing.image import ImageDataGenerator\r\n",
        "from PIL import ImageFile"
      ],
      "execution_count": 4,
      "outputs": []
    },
    {
      "cell_type": "code",
      "metadata": {
        "id": "VxRcOGGWiQvN",
        "colab": {
          "base_uri": "https://localhost:8080/"
        },
        "outputId": "c21d75f1-1c20-40a8-efbf-197d2024493c"
      },
      "source": [
        "ImageFile.LOAD_TRUNCATED_IMAGES = True\r\n",
        "\r\n",
        "train_datagen = ImageDataGenerator(rescale = 1./255, shear_range = .1, rotation_range = 25)\r\n",
        "test_datagen = ImageDataGenerator(rescale = 1./255)\r\n",
        "\r\n",
        "training_set = train_datagen.flow_from_directory('Dataset/Train', target_size = (128, 128), \r\n",
        "                                                 batch_size = 32, class_mode = 'categorical')\r\n",
        "test_set = test_datagen.flow_from_directory('Dataset/Test', target_size = (128, 128), \r\n",
        "                                                 batch_size = 32, class_mode = 'categorical')"
      ],
      "execution_count": 7,
      "outputs": [
        {
          "output_type": "stream",
          "text": [
            "Found 12000 images belonging to 50 classes.\n",
            "Found 3000 images belonging to 50 classes.\n"
          ],
          "name": "stdout"
        }
      ]
    },
    {
      "cell_type": "code",
      "metadata": {
        "id": "txqmDccqiQxl",
        "colab": {
          "base_uri": "https://localhost:8080/"
        },
        "outputId": "706dff41-32d0-499a-c12b-c47da43ccf55"
      },
      "source": [
        "classifier.fit(training_set, steps_per_epoch = 375, epochs = 50,\r\n",
        "                        validation_data = test_set, validation_steps = 93)\r\n",
        "\r\n",
        "\r\n",
        "classifier_json = classifier.to_json()\r\n",
        "with open(\"CNN_BaseModel_E50.json\", \"w\") as json_file:\r\n",
        "    json_file.write(classifier_json)\r\n",
        "    \r\n",
        "classifier.save_weights(\"CNN_BaseModel_E50.h5\")\r\n",
        "print('Saved model to disk')"
      ],
      "execution_count": 8,
      "outputs": [
        {
          "output_type": "stream",
          "text": [
            "Epoch 1/50\n",
            "375/375 [==============================] - 53s 140ms/step - loss: 2.7776 - accuracy: 0.2746 - val_loss: 1.4465 - val_accuracy: 0.5864\n",
            "Epoch 2/50\n",
            "375/375 [==============================] - 52s 139ms/step - loss: 1.6816 - accuracy: 0.5193 - val_loss: 1.0825 - val_accuracy: 0.6972\n",
            "Epoch 3/50\n",
            "375/375 [==============================] - 52s 139ms/step - loss: 1.3760 - accuracy: 0.6042 - val_loss: 0.9024 - val_accuracy: 0.7399\n",
            "Epoch 4/50\n",
            "375/375 [==============================] - 52s 139ms/step - loss: 1.2184 - accuracy: 0.6421 - val_loss: 0.8303 - val_accuracy: 0.7655\n",
            "Epoch 5/50\n",
            "375/375 [==============================] - 52s 139ms/step - loss: 1.1086 - accuracy: 0.6679 - val_loss: 0.7428 - val_accuracy: 0.7849\n",
            "Epoch 6/50\n",
            "375/375 [==============================] - 52s 138ms/step - loss: 1.0382 - accuracy: 0.6894 - val_loss: 0.6996 - val_accuracy: 0.8048\n",
            "Epoch 7/50\n",
            "375/375 [==============================] - 52s 139ms/step - loss: 0.9833 - accuracy: 0.7001 - val_loss: 0.7198 - val_accuracy: 0.7860\n",
            "Epoch 8/50\n",
            "375/375 [==============================] - 52s 139ms/step - loss: 0.9226 - accuracy: 0.7204 - val_loss: 0.6594 - val_accuracy: 0.8028\n",
            "Epoch 9/50\n",
            "375/375 [==============================] - 52s 139ms/step - loss: 0.8872 - accuracy: 0.7275 - val_loss: 0.6469 - val_accuracy: 0.8078\n",
            "Epoch 10/50\n",
            "375/375 [==============================] - 52s 138ms/step - loss: 0.8518 - accuracy: 0.7390 - val_loss: 0.6764 - val_accuracy: 0.8031\n",
            "Epoch 11/50\n",
            "375/375 [==============================] - 52s 137ms/step - loss: 0.8170 - accuracy: 0.7513 - val_loss: 0.5916 - val_accuracy: 0.8286\n",
            "Epoch 12/50\n",
            "375/375 [==============================] - 52s 137ms/step - loss: 0.7916 - accuracy: 0.7539 - val_loss: 0.6194 - val_accuracy: 0.8149\n",
            "Epoch 13/50\n",
            "375/375 [==============================] - 52s 138ms/step - loss: 0.7602 - accuracy: 0.7663 - val_loss: 0.5645 - val_accuracy: 0.8350\n",
            "Epoch 14/50\n",
            "375/375 [==============================] - 52s 138ms/step - loss: 0.7085 - accuracy: 0.7793 - val_loss: 0.5838 - val_accuracy: 0.8269\n",
            "Epoch 15/50\n",
            "375/375 [==============================] - 52s 138ms/step - loss: 0.7119 - accuracy: 0.7732 - val_loss: 0.5637 - val_accuracy: 0.8333\n",
            "Epoch 16/50\n",
            "375/375 [==============================] - 52s 139ms/step - loss: 0.6769 - accuracy: 0.7871 - val_loss: 0.5879 - val_accuracy: 0.8286\n",
            "Epoch 17/50\n",
            "375/375 [==============================] - 52s 138ms/step - loss: 0.6591 - accuracy: 0.7922 - val_loss: 0.5455 - val_accuracy: 0.8387\n",
            "Epoch 18/50\n",
            "375/375 [==============================] - 52s 138ms/step - loss: 0.6370 - accuracy: 0.7947 - val_loss: 0.5906 - val_accuracy: 0.8246\n",
            "Epoch 19/50\n",
            "375/375 [==============================] - 52s 139ms/step - loss: 0.6143 - accuracy: 0.8027 - val_loss: 0.5336 - val_accuracy: 0.8508\n",
            "Epoch 20/50\n",
            "375/375 [==============================] - 52s 139ms/step - loss: 0.5832 - accuracy: 0.8150 - val_loss: 0.5168 - val_accuracy: 0.8538\n",
            "Epoch 21/50\n",
            "375/375 [==============================] - 52s 139ms/step - loss: 0.5706 - accuracy: 0.8192 - val_loss: 0.5004 - val_accuracy: 0.8569\n",
            "Epoch 22/50\n",
            "375/375 [==============================] - 52s 138ms/step - loss: 0.5345 - accuracy: 0.8258 - val_loss: 0.4928 - val_accuracy: 0.8538\n",
            "Epoch 23/50\n",
            "375/375 [==============================] - 52s 138ms/step - loss: 0.5264 - accuracy: 0.8346 - val_loss: 0.5466 - val_accuracy: 0.8548\n",
            "Epoch 24/50\n",
            "375/375 [==============================] - 52s 139ms/step - loss: 0.5160 - accuracy: 0.8403 - val_loss: 0.5059 - val_accuracy: 0.8589\n",
            "Epoch 25/50\n",
            "375/375 [==============================] - 52s 139ms/step - loss: 0.4803 - accuracy: 0.8447 - val_loss: 0.5107 - val_accuracy: 0.8441\n",
            "Epoch 26/50\n",
            "375/375 [==============================] - 52s 139ms/step - loss: 0.4784 - accuracy: 0.8456 - val_loss: 0.5341 - val_accuracy: 0.8538\n",
            "Epoch 27/50\n",
            "375/375 [==============================] - 52s 139ms/step - loss: 0.4487 - accuracy: 0.8557 - val_loss: 0.5108 - val_accuracy: 0.8545\n",
            "Epoch 28/50\n",
            "375/375 [==============================] - 52s 139ms/step - loss: 0.4427 - accuracy: 0.8566 - val_loss: 0.5199 - val_accuracy: 0.8589\n",
            "Epoch 29/50\n",
            "375/375 [==============================] - 52s 138ms/step - loss: 0.4296 - accuracy: 0.8582 - val_loss: 0.5612 - val_accuracy: 0.8545\n",
            "Epoch 30/50\n",
            "375/375 [==============================] - 52s 139ms/step - loss: 0.4227 - accuracy: 0.8649 - val_loss: 0.5852 - val_accuracy: 0.8474\n",
            "Epoch 31/50\n",
            "375/375 [==============================] - 52s 139ms/step - loss: 0.4178 - accuracy: 0.8637 - val_loss: 0.5086 - val_accuracy: 0.8595\n",
            "Epoch 32/50\n",
            "375/375 [==============================] - 52s 139ms/step - loss: 0.4019 - accuracy: 0.8665 - val_loss: 0.5354 - val_accuracy: 0.8626\n",
            "Epoch 33/50\n",
            "375/375 [==============================] - 52s 139ms/step - loss: 0.3887 - accuracy: 0.8735 - val_loss: 0.5159 - val_accuracy: 0.8616\n",
            "Epoch 34/50\n",
            "375/375 [==============================] - 52s 139ms/step - loss: 0.3728 - accuracy: 0.8777 - val_loss: 0.5175 - val_accuracy: 0.8703\n",
            "Epoch 35/50\n",
            "375/375 [==============================] - 52s 139ms/step - loss: 0.3764 - accuracy: 0.8739 - val_loss: 0.4890 - val_accuracy: 0.8706\n",
            "Epoch 36/50\n",
            "375/375 [==============================] - 52s 139ms/step - loss: 0.3705 - accuracy: 0.8772 - val_loss: 0.5116 - val_accuracy: 0.8676\n",
            "Epoch 37/50\n",
            "375/375 [==============================] - 52s 139ms/step - loss: 0.3578 - accuracy: 0.8829 - val_loss: 0.5123 - val_accuracy: 0.8616\n",
            "Epoch 38/50\n",
            "375/375 [==============================] - 52s 139ms/step - loss: 0.3557 - accuracy: 0.8827 - val_loss: 0.5305 - val_accuracy: 0.8656\n",
            "Epoch 39/50\n",
            "375/375 [==============================] - 52s 139ms/step - loss: 0.3370 - accuracy: 0.8893 - val_loss: 0.5599 - val_accuracy: 0.8619\n",
            "Epoch 40/50\n",
            "375/375 [==============================] - 52s 139ms/step - loss: 0.3205 - accuracy: 0.8948 - val_loss: 0.5191 - val_accuracy: 0.8703\n",
            "Epoch 41/50\n",
            "375/375 [==============================] - 52s 139ms/step - loss: 0.3178 - accuracy: 0.8965 - val_loss: 0.5578 - val_accuracy: 0.8592\n",
            "Epoch 42/50\n",
            "375/375 [==============================] - 52s 139ms/step - loss: 0.3194 - accuracy: 0.8928 - val_loss: 0.5035 - val_accuracy: 0.8676\n",
            "Epoch 43/50\n",
            "375/375 [==============================] - 52s 140ms/step - loss: 0.3075 - accuracy: 0.9003 - val_loss: 0.5421 - val_accuracy: 0.8632\n",
            "Epoch 44/50\n",
            "375/375 [==============================] - 52s 139ms/step - loss: 0.2947 - accuracy: 0.9005 - val_loss: 0.5496 - val_accuracy: 0.8690\n",
            "Epoch 45/50\n",
            "375/375 [==============================] - 52s 139ms/step - loss: 0.2889 - accuracy: 0.9028 - val_loss: 0.5651 - val_accuracy: 0.8656\n",
            "Epoch 46/50\n",
            "375/375 [==============================] - 52s 139ms/step - loss: 0.2920 - accuracy: 0.9027 - val_loss: 0.5165 - val_accuracy: 0.8690\n",
            "Epoch 47/50\n",
            "375/375 [==============================] - 52s 140ms/step - loss: 0.2899 - accuracy: 0.9023 - val_loss: 0.5037 - val_accuracy: 0.8767\n",
            "Epoch 48/50\n",
            "375/375 [==============================] - 52s 139ms/step - loss: 0.2764 - accuracy: 0.9089 - val_loss: 0.5530 - val_accuracy: 0.8646\n",
            "Epoch 49/50\n",
            "375/375 [==============================] - 52s 140ms/step - loss: 0.2844 - accuracy: 0.9030 - val_loss: 0.5112 - val_accuracy: 0.8723\n",
            "Epoch 50/50\n",
            "375/375 [==============================] - 52s 140ms/step - loss: 0.2686 - accuracy: 0.9102 - val_loss: 0.5587 - val_accuracy: 0.8737\n",
            "Saved model to disk\n"
          ],
          "name": "stdout"
        }
      ]
    },
    {
      "cell_type": "code",
      "metadata": {
        "id": "5qrCRf1yiQzu"
      },
      "source": [
        ""
      ],
      "execution_count": null,
      "outputs": []
    },
    {
      "cell_type": "code",
      "metadata": {
        "id": "VkQP3HSdiQ2I"
      },
      "source": [
        ""
      ],
      "execution_count": null,
      "outputs": []
    },
    {
      "cell_type": "code",
      "metadata": {
        "id": "_0EgFCUoiQ4S"
      },
      "source": [
        ""
      ],
      "execution_count": null,
      "outputs": []
    },
    {
      "cell_type": "code",
      "metadata": {
        "id": "0Z72ipI9iQ7K"
      },
      "source": [
        ""
      ],
      "execution_count": null,
      "outputs": []
    }
  ]
}